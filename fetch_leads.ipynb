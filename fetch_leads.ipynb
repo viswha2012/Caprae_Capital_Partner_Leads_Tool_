{
 "cells": [
  {
   "cell_type": "code",
   "execution_count": 62,
   "id": "c05fe8b1-0e93-439d-84a8-d79db7f22887",
   "metadata": {},
   "outputs": [],
   "source": [
    "import pycountry\n",
    "import requests\n",
    "from serpapi import GoogleSearch\n",
    "from bs4 import BeautifulSoup\n",
    "from rapidfuzz import process\n",
    "from config import SERPAPI_KEY\n",
    "from urllib.parse import urlencode\n",
    "import http.client"
   ]
  },
  {
   "cell_type": "code",
   "execution_count": 39,
   "id": "e57360d8-ce11-42d1-8845-c40ca9a4fcc0",
   "metadata": {},
   "outputs": [],
   "source": [
    "import os\n",
    "from dotenv import load_dotenv\n",
    "load_dotenv()\n",
    "APOLLO_KEY = os.getenv('APOLLO_KEY')"
   ]
  },
  {
   "cell_type": "code",
   "execution_count": 2,
   "id": "19a43289-1dd5-43dd-954e-8b87ffeeae2b",
   "metadata": {},
   "outputs": [],
   "source": [
    "industry_input = 'health care'\n",
    "location_input = 'United Kingdom'"
   ]
  },
  {
   "cell_type": "code",
   "execution_count": 3,
   "id": "b36e5338-aced-4cae-bb1a-15531dee4e7e",
   "metadata": {},
   "outputs": [],
   "source": [
    "serpapi_query = f\"{industry_input} companies in {location_input}\""
   ]
  },
  {
   "cell_type": "code",
   "execution_count": null,
   "id": "37809c39-24c8-45fd-9974-3a646793aa5f",
   "metadata": {},
   "outputs": [],
   "source": [
    "#Google Maps Search\n",
    "params = {\n",
    "    'engine' : 'google_maps',\n",
    "    'type' : 'search',\n",
    "    'q': serpapi_query,\n",
    "    'hl' : 'en',\n",
    "    'api_key': SERPAPI_KEY\n",
    "}\n",
    "\n",
    "search = GoogleSearch(params)\n",
    "results = search.get_dict()"
   ]
  },
  {
   "cell_type": "code",
   "execution_count": 5,
   "id": "4c0cf2f8-7937-4329-8c1c-0d24f4f0c8c2",
   "metadata": {},
   "outputs": [],
   "source": [
    "leads = []\n",
    "for place in results.get(\"local_results\", []):\n",
    "    leads.append({\n",
    "        \"name\": place.get(\"title\"),\n",
    "        \"phone\": place.get(\"phone\"),\n",
    "        \"website\": place.get(\"website\"),\n",
    "        \"address\": place.get(\"address\"),\n",
    "        \"rating\": place.get(\"rating\"),\n",
    "        \"reviews\": place.get(\"reviews\"),\n",
    "        \"category\": place.get(\"type\")\n",
    "    })"
   ]
  },
  {
   "cell_type": "code",
   "execution_count": 6,
   "id": "ea6f1b54-01da-41ae-9818-fd730ade54cf",
   "metadata": {},
   "outputs": [
    {
     "data": {
      "text/plain": [
       "[{'name': 'Pure Healthcare Group',\n",
       "  'phone': '+44 20 7139 9999',\n",
       "  'website': 'https://www.purehealthcare.co.uk/',\n",
       "  'address': '11th Floor, 30 Crown Pl, London EC2A 4EB, United Kingdom',\n",
       "  'rating': 4.8,\n",
       "  'reviews': 91,\n",
       "  'category': 'Recruiter'},\n",
       " {'name': 'Healthcare First',\n",
       "  'phone': '+44 333 577 0377',\n",
       "  'website': 'http://www.healthcare-first.co.uk/',\n",
       "  'address': 'Oaks House, 16-22 West St, Epsom KT18 7RG, United Kingdom',\n",
       "  'rating': 4.9,\n",
       "  'reviews': 52,\n",
       "  'category': 'Home health care service'},\n",
       " {'name': 'Aqua Healthcare',\n",
       "  'phone': '+44 20 8004 8604',\n",
       "  'website': 'https://www.aqua-healthcare.co.uk/',\n",
       "  'address': 'Salisbury House, 29 Finsbury Circus, London EC2M 5SQ, United Kingdom',\n",
       "  'rating': 5,\n",
       "  'reviews': 77,\n",
       "  'category': 'Employment agency'},\n",
       " {'name': 'Better Healthcare Services',\n",
       "  'phone': '+44 20 7929 2975',\n",
       "  'website': None,\n",
       "  'address': '11-15 St Mary at Hill, London, EC3R 8EE, United Kingdom',\n",
       "  'rating': 1,\n",
       "  'reviews': 3,\n",
       "  'category': 'Home health care service'},\n",
       " {'name': 'Kingdom Healthcare Services Ltd',\n",
       "  'phone': '+44 1234 325948',\n",
       "  'website': 'http://kingdomhealthcare.co.uk/',\n",
       "  'address': 'Bedford Heights Business CentreBrickhill, DriveBedfordBedfordshireMK41 7PH, United Kingdom',\n",
       "  'rating': 5,\n",
       "  'reviews': 1,\n",
       "  'category': 'Home health care service'},\n",
       " {'name': 'Cecile Healthcare UK limited',\n",
       "  'phone': '+44 7533 476912',\n",
       "  'website': 'http://www.cecile-healthcare.com/',\n",
       "  'address': \"1 Meadow View, St Paul's Cray, Orpington BR5 3EJ, United Kingdom\",\n",
       "  'rating': 4.8,\n",
       "  'reviews': 20,\n",
       "  'category': 'Home health care service'},\n",
       " {'name': 'Vertex Healthcare Services Ltd',\n",
       "  'phone': '+44 20 8050 6781',\n",
       "  'website': 'http://www.vertexhealthcare.co.uk/',\n",
       "  'address': '71-75 Shelton St, London, WC2H 9JQ, United Kingdom',\n",
       "  'rating': 5,\n",
       "  'reviews': 6,\n",
       "  'category': 'Temp agency'},\n",
       " {'name': 'Medicco Healthcare Limited',\n",
       "  'phone': '+44 345 340 5707',\n",
       "  'website': 'http://www.medicco.co.uk/',\n",
       "  'address': '3, Bolt Court, Fleet St, London EC4A 3DQ, United Kingdom',\n",
       "  'rating': 5,\n",
       "  'reviews': 1,\n",
       "  'category': 'Recruiter'},\n",
       " {'name': 'Candy Healthcare',\n",
       "  'phone': '+44 20 3011 3800',\n",
       "  'website': 'https://www.candyhealthcare.co.uk/',\n",
       "  'address': 'West Wing, 3rd Floor, The Hop Exchange, 24 Southwark St, London SE1 1TY, United Kingdom',\n",
       "  'rating': 4.9,\n",
       "  'reviews': 31,\n",
       "  'category': 'Recruiter'},\n",
       " {'name': 'Gain Healthcare LTD.',\n",
       "  'phone': '+44 1869 225891',\n",
       "  'website': 'http://gainhealthcare.co.uk/',\n",
       "  'address': '5 London Rd, Bicester, OX26 6BU, United Kingdom',\n",
       "  'rating': 4.1,\n",
       "  'reviews': 45,\n",
       "  'category': 'Home health care service'},\n",
       " {'name': 'HFH Healthcare Ltd',\n",
       "  'phone': '+44 20 8944 8831',\n",
       "  'website': 'http://hfhhealthcare.co.uk/',\n",
       "  'address': \"Tuition House, 27-37 St George's Rd, London SW19 4EU, United Kingdom\",\n",
       "  'rating': 4,\n",
       "  'reviews': 74,\n",
       "  'category': 'Home health care service'},\n",
       " {'name': 'Fenwick Healthcare Staffing',\n",
       "  'phone': '+44 20 3355 5099',\n",
       "  'website': 'http://www.fenwickhealthcare.co.uk/',\n",
       "  'address': '105, 109 Sumatra Rd, London NW6 1PL, United Kingdom',\n",
       "  'rating': 4.6,\n",
       "  'reviews': 199,\n",
       "  'category': 'Nursing agency'},\n",
       " {'name': 'Direct Healthcare 24',\n",
       "  'phone': '+44 20 4536 7620',\n",
       "  'website': 'https://www.dh24.co.uk/',\n",
       "  'address': 'Harmsworth House, 13-15 Bouverie St, Temple, London EC4Y 8DP, United Kingdom',\n",
       "  'rating': 4.1,\n",
       "  'reviews': 64,\n",
       "  'category': 'Recruiter'},\n",
       " {'name': 'Skilled Healthcare International Recruitment',\n",
       "  'phone': '+44 7957 456518',\n",
       "  'website': 'http://www.skilledhealthcarerecruitment.co.uk/',\n",
       "  'address': 'Crown House, Business Centre, N Circular Rd., London NW10 7PN, United Kingdom',\n",
       "  'rating': 5,\n",
       "  'reviews': 69,\n",
       "  'category': 'Recruiter'},\n",
       " {'name': 'Professional Healthcare UK Ltd',\n",
       "  'phone': '+44 333 011 6377',\n",
       "  'website': 'https://professionalhealthcare.uk/',\n",
       "  'address': 'Jhumat House, 160 London Rd, Barking IG11 8BB, United Kingdom',\n",
       "  'rating': 4.4,\n",
       "  'reviews': 7,\n",
       "  'category': 'Nursing agency'},\n",
       " {'name': 'UK Healthcare Support Ltd',\n",
       "  'phone': '+44 20 8050 2850',\n",
       "  'website': 'https://www.ukhealthcaresupport.com/',\n",
       "  'address': 'c/o, Spaces, 17 City N Pl, Finsbury Park, London N4 3FU, United Kingdom',\n",
       "  'rating': 5,\n",
       "  'reviews': 1,\n",
       "  'category': 'Home health care service'},\n",
       " {'name': 'Total Healthcare Limited',\n",
       "  'phone': '+44 1733 793973',\n",
       "  'website': 'https://www.totalhc.org/',\n",
       "  'address': 'Allia Future Business Centre, London Rd, Peterborough PE2 8AN, United Kingdom',\n",
       "  'rating': 4.9,\n",
       "  'reviews': 12,\n",
       "  'category': 'Home health care service'},\n",
       " {'name': 'Plan B Healthcare',\n",
       "  'phone': '+44 20 3545 5550',\n",
       "  'website': 'http://www.planbhealth.co.uk/',\n",
       "  'address': '18th, Broadgate Tower, 20 Primrose St, London EC2A 2EW, United Kingdom',\n",
       "  'rating': 4.4,\n",
       "  'reviews': 53,\n",
       "  'category': 'Nursing agency'},\n",
       " {'name': 'Skilled Healthcare International Limited',\n",
       "  'phone': '+44 20 3002 7745',\n",
       "  'website': None,\n",
       "  'address': 'Studio 7, First Floor, Siddeley House, 50 Canbury Park Rd, Kingston upon Thames KT2 6LX, United Kingdom',\n",
       "  'rating': 4.9,\n",
       "  'reviews': 72,\n",
       "  'category': 'Recruiter'},\n",
       " {'name': 'Advance Healthcare UK Ltd',\n",
       "  'phone': '+44 1922 626731',\n",
       "  'website': 'http://www.advancehealthcare.co.uk/',\n",
       "  'address': 'Electruim Point, Suite 4 Forge Rd, Willenhall WV12 4HD, United Kingdom',\n",
       "  'rating': 2.9,\n",
       "  'reviews': 15,\n",
       "  'category': 'Home health care service'}]"
      ]
     },
     "execution_count": 6,
     "metadata": {},
     "output_type": "execute_result"
    }
   ],
   "source": [
    "leads"
   ]
  },
  {
   "cell_type": "code",
   "execution_count": null,
   "id": "1867af7e-9fe2-4f4b-ac4b-4387dac1ea28",
   "metadata": {},
   "outputs": [
    {
     "name": "stdout",
     "output_type": "stream",
     "text": [
      "{\"organization\":{\"id\":\"5592374d7369640b18726c00\",\"name\":\"ADVANCED MEDICAL HEALTHCARE LTD\",\"website_url\":\"http://www.advancehealthcare.co.uk\",\"linkedin_url\":\"http://www.linkedin.com/company/advanced-medical-healthcare-ltd\",\"facebook_url\":\"https://www.facebook.com/advancehealthcareUK\",\"primary_phone\":{\"number\":\"01543F9\\u00002\",\"source\":\"Scraped\",\"sanitized_number\":null},\"languages\":[\"English\"],\"phone\":\"01543F9\\u00002\",\"linkedin_uid\":\"5845681\",\"logo_url\":\"https://zenprospect-production.s3.amazonaws.com/uploads/pictures/63edac0a998f12000100b12d/picture\",\"primary_domain\":\"advancehealthcare.co.uk\",\"sanitized_phone\":null,\"industry\":\"medical devices\",\"estimated_num_employees\":8,\"keywords\":[\"medical equipment manufacturing\",\"medical devices\",\"hospital \\u0026 health care\"],\"industries\":[\"medical devices\"],\"secondary_industries\":[],\"snippets_loaded\":true,\"industry_tag_id\":\"5567e1b97369641ea9690200\",\"industry_tag_hash\":{\"medical devices\":\"5567e1b97369641ea9690200\"},\"retail_location_count\":0,\"raw_address\":\"Wellington, Somerset\",\"street_address\":\"\",\"city\":\"Wellington\",\"state\":\"England\",\"postal_code\":\"TA21\",\"country\":\"United Kingdom\",\"owned_by_organization_id\":null,\"short_description\":\"Advance Healthcare delivers home \\u0026 domiciliary care services to customers across the West Midlands \\u0026 Staffordshire. Find out more.\",\"suborganizations\":[],\"num_suborganizations\":0,\"total_funding\":null,\"total_funding_printed\":null,\"latest_funding_round_date\":null,\"latest_funding_stage\":null,\"funding_events\":[],\"technology_names\":[\"Android\",\"Bootstrap Framework\",\"Google Font API\",\"Google Maps\",\"Google Tag Manager\",\"Microsoft Office 365\",\"Mobile Friendly\",\"Outlook\",\"WordPress.org\",\"reCAPTCHA\"],\"current_technologies\":[{\"uid\":\"android\",\"name\":\"Android\",\"category\":\"Frameworks and Programming Languages\"},{\"uid\":\"bootstrap_framework\",\"name\":\"Bootstrap Framework\",\"category\":\"CSS and JavaScript Libraries\"},{\"uid\":\"google_font_api\",\"name\":\"Google Font API\",\"category\":\"Fonts\"},{\"uid\":\"google_maps\",\"name\":\"Google Maps\",\"category\":\"Other\"},{\"uid\":\"google_tag_manager\",\"name\":\"Google Tag Manager\",\"category\":\"Tag Management\"},{\"uid\":\"office_365\",\"name\":\"Microsoft Office 365\",\"category\":\"Other\"},{\"uid\":\"mobile_friendly\",\"name\":\"Mobile Friendly\",\"category\":\"Other\"},{\"uid\":\"outlook\",\"name\":\"Outlook\",\"category\":\"Email Providers\"},{\"uid\":\"wordpress_org\",\"name\":\"WordPress.org\",\"category\":\"CMS\"},{\"uid\":\"recaptcha\",\"name\":\"reCAPTCHA\",\"category\":\"Captcha\"}],\"org_chart_root_people_ids\":[],\"org_chart_sector\":null,\"org_chart_removed\":null,\"org_chart_show_department_filter\":null,\"departmental_head_count\":{\"accounting\":0,\"sales\":0,\"operations\":0,\"finance\":0,\"marketing\":0,\"human_resources\":0,\"information_technology\":0,\"legal\":0,\"engineering\":0,\"business_development\":0,\"product_management\":0,\"consulting\":0,\"education\":0,\"administrative\":0,\"media_and_commmunication\":0,\"arts_and_design\":0,\"entrepreneurship\":0,\"support\":0,\"data_science\":0},\"generic_org_insights\":null}}\n"
     ]
    }
   ],
   "source": [
    "#Apollo Enrichment\n",
    "url = \"https://api.apollo.io/api/v1/organizations/enrich\"\n",
    "\n",
    "headers = {\n",
    "    \"accept\": \"application/json\",\n",
    "    \"Cache-Control\": \"no-cache\",\n",
    "    \"Content-Type\": \"application/json\",\n",
    "    'X-Api_Key' : APOLLO_KEY\n",
    "}\n",
    "\n",
    "params = {\n",
    "    'domain' : 'advancehealthcare.co.uk'\n",
    "}\n",
    "\n",
    "response = requests.get(url, headers=headers, params=params)\n",
    "\n",
    "print(response.text)"
   ]
  },
  {
   "cell_type": "code",
   "execution_count": null,
   "id": "bf79e116-64c0-4dad-8dfa-af3a1739f038",
   "metadata": {},
   "outputs": [],
   "source": [
    "#Yellow Pages Search\n",
    "url = 'https://yellow-pages-api.p.rapidapi.com/search'\n",
    "params = {\n",
    "    'search_terms': 'Plumbers',\n",
    "    'geo_location_terms': 'Glendale, CA',\n",
    "    'page': 1\n",
    "}\n",
    "headers = {\n",
    "    'x-rapidapi-host': 'yellow-pages-api.p.rapidapi.com',\n",
    "    'x-rapidapi-key': 'YOUR_API_KEY'\n",
    "}\n",
    "\n",
    "response = requests.get(url, headers=headers, params=params)\n",
    "print(response.json())"
   ]
  },
  {
   "cell_type": "code",
   "execution_count": 58,
   "id": "dbebe49b-9784-406e-8c15-04d88861d239",
   "metadata": {},
   "outputs": [
    {
     "name": "stdout",
     "output_type": "stream",
     "text": [
      "{\"error\":\"api/v1/mixed_companies/search is not accessible with this api_key\",\"error_code\":\"API_INACCESSIBLE\"}\n"
     ]
    }
   ],
   "source": [
    "#Apollo Search\n",
    "\n",
    "url = \"https://api.apollo.io/api/v1/mixed_companies/search?organization_locations[]=\"\n",
    "\n",
    "headers = {\n",
    "    \"accept\": \"application/json\",\n",
    "    \"Cache-Control\": \"no-cache\",\n",
    "    \"Content-Type\": \"application/json\",\n",
    "    'X-Api_Key' : 'Sr-DxOns0dHcSz8Nr8JcMA'\n",
    "}\n",
    "\n",
    "params = {\n",
    "    \"q_organization_name\": \"\",          # Search by organization name\n",
    "    \"q_organization_website\": \"\",       # Search by organization website\n",
    "    \"q_organization_domain\": \"healthcare\",        # Search by domain\n",
    "    \"q_organization_funding_stage\": \"\", # Funding stage, e.g. \"series_a\"\n",
    "    \"q_organization_funding_total\": \"\", # Total funding amount\n",
    "    \"q_organization_funding_rounds\": \"\",# Number of funding rounds\n",
    "    \"q_organization_location_city\": \"\", # City name\n",
    "    \"q_organization_location_state\": \"\",# State or province\n",
    "    \"q_organization_location_country\": \"United Kingdom\",# Country name\n",
    "    \"q_organization_industry\": \"\",      # Industry keyword\n",
    "    \"q_organization_employee_count\": \"\",# Number or range of employees\n",
    "    \"q_organization_revenue\": \"\",       # Revenue range\n",
    "    \"q_organization_technologies\": \"\", # Technologies used\n",
    "    \"q_organization_linkedin_url\": \"\", # LinkedIn company URL\n",
    "    \"q_organization_facebook_url\": \"\", # Facebook company URL\n",
    "    \"q_organization_twitter_url\": \"\",  # Twitter company URL\n",
    "    #\"page\": ,                         # Page number for pagination\n",
    "    \"per_page\": 10                     # Results per page\n",
    "}\n",
    "\n",
    "\n",
    "response = requests.post(url, headers=headers,params=params)\n",
    "\n",
    "print(response.text)"
   ]
  },
  {
   "cell_type": "code",
   "execution_count": 63,
   "id": "ddfa994b-8545-4fa7-b60c-8ce6dea82b66",
   "metadata": {},
   "outputs": [
    {
     "name": "stdout",
     "output_type": "stream",
     "text": [
      "{\"error\":\"No valid JSON-LD data found after multiple attempts.\"}\n"
     ]
    }
   ],
   "source": [
    "#Yellow Pages\n",
    "\n",
    "conn = http.client.HTTPSConnection(\"yellow-pages-api.p.rapidapi.com\")\n",
    "\n",
    "headers = {\n",
    "    'x-rapidapi-key': \"52bc2cabfamshda8033d3ea75897p17f923jsn41a23a540d2a\",\n",
    "    'x-rapidapi-host': \"yellow-pages-api.p.rapidapi.com\"\n",
    "}\n",
    "\n",
    "params = {\n",
    "    'search_terms' : industry_input,\n",
    "    'geo_location_terms' : location_input\n",
    "}\n",
    "params = urlencode(params)\n",
    "\n",
    "conn.request(\"GET\", f\"/search?{params}\", headers=headers)\n",
    "\n",
    "res = conn.getresponse()\n",
    "data = res.read()\n",
    "\n",
    "print(data.decode(\"utf-8\"))"
   ]
  },
  {
   "cell_type": "code",
   "execution_count": 64,
   "id": "9bcd2e9e-de70-4eb6-b284-b83242171878",
   "metadata": {},
   "outputs": [
    {
     "data": {
      "text/plain": [
       "b'{\"error\":\"No valid JSON-LD data found after multiple attempts.\"}'"
      ]
     },
     "execution_count": 64,
     "metadata": {},
     "output_type": "execute_result"
    }
   ],
   "source": [
    "data"
   ]
  },
  {
   "cell_type": "code",
   "execution_count": null,
   "id": "a63c50a0-686c-4680-8e77-3fe59cec127d",
   "metadata": {},
   "outputs": [],
   "source": []
  }
 ],
 "metadata": {
  "kernelspec": {
   "display_name": "Python 3 (ipykernel)",
   "language": "python",
   "name": "python3"
  },
  "language_info": {
   "codemirror_mode": {
    "name": "ipython",
    "version": 3
   },
   "file_extension": ".py",
   "mimetype": "text/x-python",
   "name": "python",
   "nbconvert_exporter": "python",
   "pygments_lexer": "ipython3",
   "version": "3.10.18"
  }
 },
 "nbformat": 4,
 "nbformat_minor": 5
}
