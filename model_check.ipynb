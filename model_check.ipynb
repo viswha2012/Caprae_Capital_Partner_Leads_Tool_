{
 "cells": [
  {
   "cell_type": "code",
   "execution_count": 6,
   "id": "8b9919ad-6ddf-47ff-b4cf-cec974681d10",
   "metadata": {},
   "outputs": [
    {
     "name": "stdout",
     "output_type": "stream",
     "text": [
      "Model Response:\n",
      "  params = {\n",
      "       \"q_organization_location_city\": \"Manchester\",\n",
      "       \"q_organization_location_country\": \"United Kingdom\",\n",
      "       \"q_organization_industry\": \"Fintech\",\n",
      "       \"q_organization_revenue\": \">=5000000\",\n",
      "       \"q_organization_technologies\": \"AWS\"\n",
      "   }\n"
     ]
    }
   ],
   "source": [
    "import requests\n",
    "import json\n",
    "\n",
    "model_name = \"mistral\"\n",
    "\n",
    "# Your actual user query\n",
    "user_query = \"Find fintech companies in Manchester with at least 5M in revenue and using AWS.\"\n",
    "\n",
    "prompt = f\"\"\"You are a lead enrichment AI for private equity investors. \n",
    "Given a user's query about investment opportunities, extract structured search parameters to be used in an API.\n",
    "\n",
    "Respond ONLY in a valid Python dictionary with the following fields populated based on the query.\n",
    "Do not add any text or explanation outside the dictionary.\n",
    "\n",
    "Here is the schema:\n",
    "params = {{\n",
    "    \"q_organization_name\": \"\",          \n",
    "    \"q_organization_website\": \"\",       \n",
    "    \"q_organization_domain\": \"\",        \n",
    "    \"q_organization_funding_stage\": \"\", \n",
    "    \"q_organization_funding_total\": \"\", \n",
    "    \"q_organization_funding_rounds\": \"\",\n",
    "    \"q_organization_location_city\": \"\", \n",
    "    \"q_organization_location_state\": \"\",\n",
    "    \"q_organization_location_country\": \"United Kingdom\",\n",
    "    \"q_organization_industry\": \"\",      \n",
    "    \"q_organization_employee_count\": \"\",\n",
    "    \"q_organization_revenue\": \"\",       \n",
    "    \"q_organization_technologies\": \"\",  \n",
    "    \"q_organization_linkedin_url\": \"\",  \n",
    "    \"q_organization_facebook_url\": \"\",  \n",
    "    \"q_organization_twitter_url\": \"\",   \n",
    "    \"per_page\": 10\n",
    "}}\n",
    "\n",
    "Below is the user query. Extract and format the parameters accordingly.\n",
    "\n",
    "USER QUERY:\n",
    "{user_query}\n",
    "\"\"\"\n",
    "\n",
    "# Send to Ollama API\n",
    "url = \"http://localhost:11434/api/generate\"\n",
    "\n",
    "response = requests.post(url, json={\n",
    "    \"model\": model_name,\n",
    "    \"prompt\": prompt,\n",
    "    \"stream\": False\n",
    "})\n",
    "\n",
    "# Display response\n",
    "if response.status_code == 200:\n",
    "    result = response.json()\n",
    "    print(\"Model Response:\\n\", result['response'])\n",
    "else:\n",
    "    print(\"Error:\", response.status_code, response.text)\n"
   ]
  },
  {
   "cell_type": "code",
   "execution_count": 20,
   "id": "19c041aa-335a-49c4-b49d-d8a025895017",
   "metadata": {},
   "outputs": [
    {
     "data": {
      "text/html": [
       "<pre style=\"white-space:pre;overflow-x:auto;line-height:normal;font-family:Menlo,'DejaVu Sans Mono',consolas,'Courier New',monospace\"><span style=\"color: #008080; text-decoration-color: #008080; font-weight: bold\">[</span><span style=\"color: #008080; text-decoration-color: #008080\">INIT</span><span style=\"color: #008080; text-decoration-color: #008080; font-weight: bold\">]</span><span style=\"color: #008080; text-decoration-color: #008080\">.... → Crawl4AI </span><span style=\"color: #008080; text-decoration-color: #008080; font-weight: bold\">0.6</span><span style=\"color: #008080; text-decoration-color: #008080\">.</span><span style=\"color: #008080; text-decoration-color: #008080; font-weight: bold\">3</span><span style=\"color: #008080; text-decoration-color: #008080\"> </span>\n",
       "</pre>\n"
      ],
      "text/plain": [
       "\u001b[1;36m[\u001b[0m\u001b[36mINIT\u001b[0m\u001b[1;36m]\u001b[0m\u001b[36m...\u001b[0m\u001b[36m. → Crawl4AI \u001b[0m\u001b[1;36m0.6\u001b[0m\u001b[36m.\u001b[0m\u001b[1;36m3\u001b[0m\u001b[36m \u001b[0m\n"
      ]
     },
     "metadata": {},
     "output_type": "display_data"
    },
    {
     "data": {
      "text/html": [
       "<pre style=\"white-space:pre;overflow-x:auto;line-height:normal;font-family:Menlo,'DejaVu Sans Mono',consolas,'Courier New',monospace\"><span style=\"color: #008000; text-decoration-color: #008000; font-weight: bold\">[</span><span style=\"color: #008000; text-decoration-color: #008000\">FETCH</span><span style=\"color: #008000; text-decoration-color: #008000; font-weight: bold\">]</span><span style=\"color: #008000; text-decoration-color: #008000\">... ↓ </span><span style=\"color: #008000; text-decoration-color: #008000; text-decoration: underline\">https://chennaiphotobiennale.foundation</span><span style=\"color: #008000; text-decoration-color: #008000\">                                                              |</span>\n",
       "<span style=\"color: #008000; text-decoration-color: #008000\">✓ | ⏱: </span><span style=\"color: #008000; text-decoration-color: #008000; font-weight: bold\">2.</span><span style=\"color: #008000; text-decoration-color: #008000\">97s </span>\n",
       "</pre>\n"
      ],
      "text/plain": [
       "\u001b[1;32m[\u001b[0m\u001b[32mFETCH\u001b[0m\u001b[1;32m]\u001b[0m\u001b[32m...\u001b[0m\u001b[32m ↓ \u001b[0m\u001b[4;32mhttps://chennaiphotobiennale.foundation\u001b[0m\u001b[32m                                                              |\u001b[0m\n",
       "\u001b[32m✓\u001b[0m\u001b[32m | ⏱: \u001b[0m\u001b[1;32m2.\u001b[0m\u001b[32m97s \u001b[0m\n"
      ]
     },
     "metadata": {},
     "output_type": "display_data"
    },
    {
     "data": {
      "text/html": [
       "<pre style=\"white-space:pre;overflow-x:auto;line-height:normal;font-family:Menlo,'DejaVu Sans Mono',consolas,'Courier New',monospace\"><span style=\"color: #008000; text-decoration-color: #008000; font-weight: bold\">[</span><span style=\"color: #008000; text-decoration-color: #008000\">SCRAPE</span><span style=\"color: #008000; text-decoration-color: #008000; font-weight: bold\">]</span><span style=\"color: #008000; text-decoration-color: #008000\">.. ◆ </span><span style=\"color: #008000; text-decoration-color: #008000; text-decoration: underline\">https://chennaiphotobiennale.foundation</span><span style=\"color: #008000; text-decoration-color: #008000\">                                                              |</span>\n",
       "<span style=\"color: #008000; text-decoration-color: #008000\">✓ | ⏱: </span><span style=\"color: #008000; text-decoration-color: #008000; font-weight: bold\">0.</span><span style=\"color: #008000; text-decoration-color: #008000\">03s </span>\n",
       "</pre>\n"
      ],
      "text/plain": [
       "\u001b[1;32m[\u001b[0m\u001b[32mSCRAPE\u001b[0m\u001b[1;32m]\u001b[0m\u001b[32m.. ◆ \u001b[0m\u001b[4;32mhttps://chennaiphotobiennale.foundation\u001b[0m\u001b[32m                                                              |\u001b[0m\n",
       "\u001b[32m✓\u001b[0m\u001b[32m | ⏱: \u001b[0m\u001b[1;32m0.\u001b[0m\u001b[32m03s \u001b[0m\n"
      ]
     },
     "metadata": {},
     "output_type": "display_data"
    },
    {
     "data": {
      "text/html": [
       "<pre style=\"white-space:pre;overflow-x:auto;line-height:normal;font-family:Menlo,'DejaVu Sans Mono',consolas,'Courier New',monospace\"><span style=\"color: #008000; text-decoration-color: #008000; font-weight: bold\">[</span><span style=\"color: #008000; text-decoration-color: #008000\">COMPLETE</span><span style=\"color: #008000; text-decoration-color: #008000; font-weight: bold\">]</span><span style=\"color: #008000; text-decoration-color: #008000\"> ● </span><span style=\"color: #008000; text-decoration-color: #008000; text-decoration: underline\">https://chennaiphotobiennale.foundation</span><span style=\"color: #008000; text-decoration-color: #008000\">                                                              |</span>\n",
       "<span style=\"color: #008000; text-decoration-color: #008000\">✓ | ⏱: </span><span style=\"color: #008000; text-decoration-color: #008000; font-weight: bold\">3.</span><span style=\"color: #008000; text-decoration-color: #008000\">00s </span>\n",
       "</pre>\n"
      ],
      "text/plain": [
       "\u001b[1;32m[\u001b[0m\u001b[32mCOMPLETE\u001b[0m\u001b[1;32m]\u001b[0m\u001b[32m ● \u001b[0m\u001b[4;32mhttps://chennaiphotobiennale.foundation\u001b[0m\u001b[32m                                                              |\u001b[0m\n",
       "\u001b[32m✓\u001b[0m\u001b[32m | ⏱: \u001b[0m\u001b[1;32m3.\u001b[0m\u001b[32m00s \u001b[0m\n"
      ]
     },
     "metadata": {},
     "output_type": "display_data"
    },
    {
     "name": "stdout",
     "output_type": "stream",
     "text": [
      "Model Response:\n",
      "  Subject: Exciting Collaboration Opportunities in the Art World 🎨💼\n",
      "\n",
      "Dear [Recipient's Name],\n",
      "\n",
      "I hope this email finds you well. I've long admired the exceptional work that The CPB Foundation is doing, particularly the inspiring [CPB PRISM] (<https://chennaiphotobiennale.foundation/prism>) program that fosters a community of young, creative minds. Your approach to nurturing talent and promoting photography as an art form leaves me inspired.\n",
      "\n",
      "In light of this shared passion for the arts and education, I am writing to explore potential mergers, acquisitions, or private equity opportunities between our organizations. I believe that our complementary strengths could create a powerful synergy, driving us towards new heights in promoting photography and fostering creative communities. With both our foundations active in markets such as [mutual market], I'm confident we can achieve great things together.\n",
      "\n",
      "If you are open to discussing this exciting possibility further, I would be delighted to schedule a call next week at your convenience. Please let me know a time that works best for you, and I will do my utmost to accommodate it.\n",
      "\n",
      "I look forward to the opportunity to collaborate with The CPB Foundation on our shared goal of promoting photography as an art form and inspiring generations to come.\n",
      "\n",
      "Warm regards,\n",
      "\n",
      "[Your Name]\n",
      "[Your Title]\n",
      "[Your Contact Information]\n"
     ]
    }
   ],
   "source": [
    "from crawl4ai import AsyncWebCrawler, BrowserConfig\n",
    "\n",
    "\n",
    "async with AsyncWebCrawler() as crawler:\n",
    "    result = await crawler.arun(\n",
    "        url=\"https://chennaiphotobiennale.foundation\",\n",
    "    )\n",
    "\n",
    "import requests\n",
    "import json\n",
    "\n",
    "model_name = \"mistral\"\n",
    "\n",
    "url = \"http://localhost:11434/api/generate\"\n",
    "prompt = f\"\"\"  \n",
    "Generate a professional email to request a meeting to discuss potential mergers, acquisitions, or private equity opportunities.  \n",
    "\n",
    "**Instructions:**  \n",
    "1. **Source Material:** Use the following company information to personalize the email:  \n",
    "   {result.markdown}  \n",
    "\n",
    "2. **Content Requirements:**  \n",
    "   - **Opening:** Express genuine admiration for the company. Highlight 1–2 specific achievements, workflows, or values from their website (e.g., \"Your recent [X initiative] demonstrates exceptional [Y quality]\").  \n",
    "   - **Purpose:** Clearly state your interest in exploring M&A/private equity opportunities.  \n",
    "   - **Synergy:** Briefly explain why your goals align (e.g., shared markets, complementary strengths).  \n",
    "   - **Call-to-Action:** Propose a meeting (e.g., \"Would you be available for a call next week?\").  \n",
    "\n",
    "3. **Tone & Style:**  \n",
    "   - Professional but warm (avoid jargon).  \n",
    "   - Concise (4–5 paragraphs max).  \n",
    "   - Creative phrasing to stand out (e.g., \"Your approach to [X] left me inspired because...\").  \n",
    "\n",
    "4. **Output Format:**  \n",
    "   - Subject line: Engaging and specific (e.g., \"Collaborating on [Shared Goal]\").  \n",
    "   - Body: Structured logically (admiration → intent → proposal).  \n",
    "   - Signature: Polite and action-oriented (e.g., \"Looking forward to your thoughts\").  \n",
    "\"\"\"\n",
    "\n",
    "response = requests.post(url, json={\n",
    "    \"model\": model_name,\n",
    "    \"prompt\": prompt,\n",
    "    \"stream\": False\n",
    "})\n",
    "\n",
    "# Display response\n",
    "if response.status_code == 200:\n",
    "    result = response.json()\n",
    "    print(\"Model Response:\\n\", result['response'])\n",
    "else:\n",
    "    print(\"Error:\", response.status_code, response.text)\n",
    "\n",
    "\n"
   ]
  },
  {
   "cell_type": "code",
   "execution_count": null,
   "id": "6c0c100a-92b9-4fef-afea-4c0db550ac66",
   "metadata": {},
   "outputs": [],
   "source": []
  }
 ],
 "metadata": {
  "kernelspec": {
   "display_name": "Python 3 (ipykernel)",
   "language": "python",
   "name": "python3"
  },
  "language_info": {
   "codemirror_mode": {
    "name": "ipython",
    "version": 3
   },
   "file_extension": ".py",
   "mimetype": "text/x-python",
   "name": "python",
   "nbconvert_exporter": "python",
   "pygments_lexer": "ipython3",
   "version": "3.10.18"
  }
 },
 "nbformat": 4,
 "nbformat_minor": 5
}
